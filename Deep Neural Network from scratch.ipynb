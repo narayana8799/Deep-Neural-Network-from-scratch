{
 "cells": [
  {
   "cell_type": "code",
   "execution_count": 1,
   "metadata": {},
   "outputs": [],
   "source": [
    "import numpy as np\n",
    "import pandas as pd\n",
    "import matplotlib.pyplot as plt"
   ]
  },
  {
   "cell_type": "code",
   "execution_count": 196,
   "metadata": {},
   "outputs": [],
   "source": [
    "class DNN:\n",
    "    \n",
    "    def __init__(self, layers, iters=2500, lr=0.001):\n",
    "        self.layers = layers\n",
    "        self.iters = iters\n",
    "        self.lr = lr\n",
    "        self.W, self.B = {}, {}\n",
    "        self.A, self.Z = {}, {}\n",
    "        self.PA, self.PZ = {}, {}\n",
    "        self.dw, self.db, self.dz = {}, {}, {}\n",
    "        self.x, self.y, self.m, self.predictions = None, None, None, None\n",
    "        self.epsilon = 1e-7\n",
    "        self.costs, self.acc = [], []\n",
    "        \n",
    "    def sigmoid(self, z):\n",
    "        return 1/(1+np.exp(-z))\n",
    "    \n",
    "    def relu(self, z):\n",
    "        return np.maximum(0, z)\n",
    "    \n",
    "    def tanh(self, z):\n",
    "        return np.tanh(z)\n",
    "    \n",
    "    def diff_relu(self, z):\n",
    "        return np.where(z<=0, 0, 1)\n",
    "    \n",
    "    def diff_tanh(self, z):\n",
    "        return 1-np.square(self.tanh(z))\n",
    "        \n",
    "    def initialize_weights(self):\n",
    "        for i in range(1, len(self.layers)):\n",
    "            self.W['W'+str(i)] = np.random.random((self.layers[i], self.layers[i-1]))*np.sqrt(2/self.layers[i-1])\n",
    "            self.B['B'+str(i)] = np.random.random((self.layers[i], 1))\n",
    "        \n",
    "    def forward_propagation(self):\n",
    "        for i in range(1, len(self.layers)):\n",
    "            self.Z['Z'+str(i)] = self.W['W'+str(i)]@self.A['A'+str(i-1)] + self.B['B'+str(i)]\n",
    "            if i==len(self.layers)-1:\n",
    "                self.A['A'+str(i)] = self.sigmoid(self.Z['Z'+str(i)])\n",
    "            else:\n",
    "                self.A['A'+str(i)] = self.relu(self.Z['Z'+str(i)])\n",
    "                           \n",
    "    def backward_propagation(self):\n",
    "        for i in range(1, len(self.layers))[::-1]:\n",
    "            if i==len(self.layers)-1:\n",
    "                self.dz['dz'+str(i)] = self.A['A'+str(i)] - self.y\n",
    "            else:\n",
    "                self.dz['dz'+str(i)] = (self.W['W'+str(i+1)].T@self.dz['dz'+str(i+1)])*self.diff_relu(self.Z['Z'+str(i)])\n",
    "            self.dw['dw'+str(i)] = (self.dz['dz'+str(i)]@self.A['A'+str(i-1)].T)/self.m\n",
    "            self.db['db'+str(i)] = np.sum(self.dz['dz'+str(i)], axis=1, keepdims=True)/self.m\n",
    "            \n",
    "    \n",
    "    def optimize_weights(self):\n",
    "        for _ in range(self.iters):\n",
    "            self.forward_propagation()\n",
    "            self.backward_propagation()\n",
    "            for i in range(1, len(self.layers)):\n",
    "                self.W['W'+str(i)] -= self.lr*self.dw['dw'+str(i)]\n",
    "                self.B['B'+str(i)] -= self.lr*self.db['db'+str(i)]\n",
    "                self.costs.append(self.compute_cost())\n",
    "                self.acc.append(self.accuracy())\n",
    "            \n",
    "                \n",
    "    def compute_cost(self):\n",
    "        term1 = -y*np.log(self.A['A'+str(len(self.layers)-1)]+self.epsilon)\n",
    "        term2 = -(1-y)*np.log(1-self.A['A'+str(len(self.layers)-1)]+self.epsilon)\n",
    "        cost = float(np.sum(term1+term2)/self.m)\n",
    "        return cost\n",
    "    \n",
    "    def fit(self, x, y):\n",
    "        self.x = x.T\n",
    "        self.y = y\n",
    "        self.m = self.y.size\n",
    "        self.A['A0'] = self.x\n",
    "        \n",
    "        self.initialize_weights()\n",
    "        self.optimize_weights()\n",
    "        \n",
    "    def predict(self, x):\n",
    "        for i in range(1, len(self.layers)):\n",
    "            if i==1:\n",
    "                self.PZ['PZ'+str(i)] = np.dot(self.W['W'+str(i)], x.T)+self.B['B'+str(i)]\n",
    "            else:\n",
    "                self.PZ['PZ'+str(i)] = np.dot(self.W['W'+str(i)], self.PZ['PZ'+str(i-1)])+self.B['B'+str(i)]\n",
    "            if i==len(self.layers)-1:\n",
    "                self.PA['PA'+str(i)] = self.sigmoid(self.Z['Z'+str(i)])\n",
    "            self.PA['PA'+str(i)] = self.relu(self.PZ['PZ'+str(i)])\n",
    "        self.predictions = np.round(self.A['A'+str(len(self.layers)-1)])\n",
    "        return self.predictions\n",
    "    \n",
    "    def accuracy(self):\n",
    "        preds = self.predict(self.x.T)\n",
    "        return (np.sum(self.y==preds)/self.m)*100"
   ]
  },
  {
   "cell_type": "code",
   "execution_count": 197,
   "metadata": {},
   "outputs": [],
   "source": [
    "data = pd.read_csv('Social_Network_Ads.csv')\n",
    "x = data.iloc[:, [2,3]].values\n",
    "y = data.iloc[:, -1].values\n",
    "from sklearn.preprocessing import StandardScaler\n",
    "x = StandardScaler().fit_transform(x)\n",
    "nn = DNN(layers=[2,10,2, 1, 12, 8,1], lr=0.04)"
   ]
  },
  {
   "cell_type": "code",
   "execution_count": 198,
   "metadata": {},
   "outputs": [],
   "source": [
    "nn.fit(x, y)"
   ]
  },
  {
   "cell_type": "code",
   "execution_count": 199,
   "metadata": {},
   "outputs": [
    {
     "data": {
      "text/plain": [
       "[<matplotlib.lines.Line2D at 0x28dcf2a5948>]"
      ]
     },
     "execution_count": 199,
     "metadata": {},
     "output_type": "execute_result"
    },
    {
     "data": {
      "image/png": "[encoded data removed]",
      "text/plain": [
       "<Figure size 432x288 with 1 Axes>"
      ]
     },
     "metadata": {
      "needs_background": "light"
     },
     "output_type": "display_data"
    }
   ],
   "source": [
    "plt.plot(nn.costs)"
   ]
  },
  {
   "cell_type": "code",
   "execution_count": 200,
   "metadata": {},
   "outputs": [],
   "source": [
    "preds = nn.predict(x)"
   ]
  },
  {
   "cell_type": "code",
   "execution_count": 201,
   "metadata": {},
   "outputs": [
    {
     "data": {
      "text/plain": [
       "91.0"
      ]
     },
     "execution_count": 201,
     "metadata": {},
     "output_type": "execute_result"
    }
   ],
   "source": [
    "(np.sum(y==preds)/y.size)*100"
   ]
  },
  {
   "cell_type": "code",
   "execution_count": 203,
   "metadata": {},
   "outputs": [
    {
     "data": {
      "text/plain": [
       "[<matplotlib.lines.Line2D at 0x28dd1a96908>]"
      ]
     },
     "execution_count": 203,
     "metadata": {},
     "output_type": "execute_result"
    },
    {
     "data": {
      "image/png": "[encoded data removed]",
      "text/plain": [
       "<Figure size 432x288 with 1 Axes>"
      ]
     },
     "metadata": {
      "needs_background": "light"
     },
     "output_type": "display_data"
    }
   ],
   "source": [
    "plt.plot(nn.acc)"
   ]
  },
  {
   "cell_type": "code",
   "execution_count": null,
   "metadata": {},
   "outputs": [],
   "source": []
  }
 ],
 "metadata": {
  "kernelspec": {
   "display_name": "Python 3",
   "language": "python",
   "name": "python3"
  },
  "language_info": {
   "codemirror_mode": {
    "name": "ipython",
    "version": 3
   },
   "file_extension": ".py",
   "mimetype": "text/x-python",
   "name": "python",
   "nbconvert_exporter": "python",
   "pygments_lexer": "ipython3",
   "version": "3.7.6"
  }
 },
 "nbformat": 4,
 "nbformat_minor": 4
}
