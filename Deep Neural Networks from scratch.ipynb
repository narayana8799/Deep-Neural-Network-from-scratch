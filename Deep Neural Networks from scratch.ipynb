{
 "cells": [
  {
   "cell_type": "code",
   "execution_count": 8,
   "metadata": {},
   "outputs": [],
   "source": [
    "import pandas as pd\n",
    "import numpy as np\n",
    "import matplotlib.pyplot as plt\n",
    "from sklearn.preprocessing import StandardScaler\n",
    "from math import ceil"
   ]
  },
  {
   "cell_type": "code",
   "execution_count": 9,
   "metadata": {},
   "outputs": [],
   "source": [
    "class DNN:\n",
    "    \n",
    "    def __init__(self, layers, acts, lr=0.001, iters=1000, *, optimizer=None, mini_batch_size=128, \\\n",
    "                 beta1=0.9, beta2=0.999, lr_decay_rate=None, lr_decay_period=None, plot_cost=True, plot_acc=True, info=False):\n",
    "        \n",
    "        self.iters = iters\n",
    "        self.lr, self.inilr = lr, lr\n",
    "        self.layers = layers\n",
    "        self.acts = acts\n",
    "        self.mbs = mini_batch_size\n",
    "        self.ptc = plot_cost\n",
    "        self.ptac = plot_acc\n",
    "        self.info = info\n",
    "        self.b1 = beta1\n",
    "        self.b2 = beta2\n",
    "        self.optimizer = optimizer if optimizer else 'BGD'\n",
    "        self.epsilon = 1e-7\n",
    "        self.lrdr = lr_decay_rate\n",
    "        self.lrdp = lr_decay_period\n",
    "        \n",
    "        self.lrdp = self.iters/self.lrdp\n",
    "        \n",
    "        self.W, self.B, self.A, self.Z = {}, {}, {}, {}\n",
    "        self.dw, self.db, self.dz = {}, {}, {}\n",
    "        self.vdw, self.vdb, self.adw, self.adb = {}, {}, {}, {}\n",
    "        self.vdwc, self.vdbc, self.adwc, self.adbc = {}, {}, {}, {}\n",
    "        \n",
    "        self.xp, self.yp = None, None\n",
    "        self.x, self.y = None, None\n",
    "        \n",
    "        self.mbx, self.mby = [], []\n",
    "        self.costs, self.accuracy = [], []\n",
    "        \n",
    "        self.activations = {'sm' : self.softmax, 'r' : self.relu, 't' : self.tanh, 's' : self.sigmoid}\n",
    "        self.diff_activations = {'r' : self.diff_relu, 't' : self.diff_tanh, 's' : self.diff_sigmoid}\n",
    "        \n",
    "    def fit(self, x, y):\n",
    "        self.x, self.xp = x.T, x.T\n",
    "        self.m = y.size\n",
    "        self.y, self.yp = self.onehotencode(y).T, self.onehotencode(y).T\n",
    "        \n",
    "        self.create_mini_batches()\n",
    "        self.initialize_weights()\n",
    "        self.optimize_weights()\n",
    "        \n",
    "        if self.ptc:\n",
    "            self.plot_costs()\n",
    "            \n",
    "        if self.ptac:\n",
    "            self.plot_accuracy()\n",
    "            \n",
    "        if self.info:\n",
    "            self.info =  {\n",
    "                            'Optimized Weights' : self.W,\n",
    "                            'Optimized Biases' : self.B,\n",
    "                            'Epochs' : self.iters,\n",
    "                            'Optimizer Used' : self.optimizer,\n",
    "                            'Initial Learning Rate' : self.inilr,\n",
    "                            'Learning Rate after decay' : self.lr,\n",
    "                            'Minimised Cost' : self.costs[-1],\n",
    "                            'Accuracy' : self.accuracy[-1]\n",
    "                          }\n",
    "            print('\\n'.join([str(i)+' : '+str(self.info[i]) for i in self.info.keys()]))\n",
    "            \n",
    "    def predict(self, x):\n",
    "        \n",
    "        self.A['A0'] = x.T\n",
    "        for i in range(1, len(self.layers)):\n",
    "            self.Z['Z'+str(i)] = np.dot(self.W['W'+str(i)], self.A['A'+str(i-1)]) + self.B['B'+str(i)]\n",
    "            self.A['A'+str(i)] = self.activations[self.acts[i-1]](self.Z['Z'+str(i)])\n",
    "            predictions = self.A['A'+str(len(self.layers)-1)].argmax(axis=0)\n",
    "            \n",
    "        return predictions\n",
    "        \n",
    "    def initialize_weights(self):\n",
    "        for i in range(1, len(self.layers)):\n",
    "            \n",
    "            self.W['W'+str(i)] = np.random.random((self.layers[i], self.layers[i-1])) * np.sqrt(2/self.layers[i-1])\n",
    "            self.B['B'+str(i)] = np.random.random((self.layers[i], 1)) * 0.001\n",
    "            \n",
    "            self.vdw['vdw'+str(i)] = np.zeros_like(self.W['W'+str(i)])\n",
    "            self.vdb['vdb'+str(i)] = np.zeros_like(self.B['B'+str(i)])\n",
    "            self.vdwc['vdwc'+str(i)] = np.zeros_like(self.W['W'+str(i)])\n",
    "            self.vdbc['vdbc'+str(i)] = np.zeros_like(self.B['B'+str(i)])\n",
    "            \n",
    "            self.adw['adw'+str(i)] = np.zeros_like(self.W['W'+str(i)])\n",
    "            self.adb['adb'+str(i)] = np.zeros_like(self.B['B'+str(i)])\n",
    "            self.adwc['adwc'+str(i)] = np.zeros_like(self.W['W'+str(i)])\n",
    "            self.adbc['adbc'+str(i)] = np.zeros_like(self.B['B'+str(i)])\n",
    "        \n",
    "    def optimize_weights(self):\n",
    "        for _ in range(1, self.iters+1):\n",
    "            for x, y in zip(self.mbx, self.mby):\n",
    "                self.x = x\n",
    "                self.y = y\n",
    "                self.m = self.x.shape[1]\n",
    "                self.A['A0'] = self.x\n",
    "                \n",
    "                self.forward_propagation()\n",
    "                self.backward_propagation()\n",
    "                \n",
    "                if not _%self.lrdp:\n",
    "                    self.lr /= self.lrdr\n",
    "                \n",
    "                for i in range(1, len(self.layers)):\n",
    "                    \n",
    "                    if self.optimizer=='adam':\n",
    "                            \n",
    "                        self.adam(_)\n",
    "                        self.W['W'+str(i)] -= self.lr*(self.vdwc['vdwc'+str(i)] / np.sqrt(self.epsilon+self.adwc['adwc'+str(i)]))\n",
    "                        self.B['B'+str(i)] -= self.lr*(self.vdbc['vdbc'+str(i)] / np.sqrt(self.epsilon+self.adbc['adbc'+str(i)]))\n",
    "                    \n",
    "                    if self.optimizer=='rms':\n",
    "                            \n",
    "                        self.rms(_)\n",
    "                        self.W['W'+str(i)] -= self.lr*self.vdwc['vdwc'+str(i)]\n",
    "                        self.B['B'+str(i)] -= self.lr*self.vdbc['vdbc'+str(i)]\n",
    "                    \n",
    "                    else:\n",
    "                            \n",
    "                        self.W['W'+str(i)] -= self.lr*self.dw['dw'+str(i)]\n",
    "                        self.B['B'+str(i)] -= self.lr*self.db['db'+str(i)]\n",
    "                    \n",
    "            self.costs.append(self.compute_cost(self.A['A'+str(len(self.layers)-1)], self.y))\n",
    "            self.accuracy.append(self.compute_accuracy(self.xp, self.yp.argmax(axis=0)))\n",
    "            \n",
    "    def forward_propagation(self):\n",
    "        \n",
    "        for i in range(1, len(self.layers)):\n",
    "            self.Z['Z'+str(i)] = np.dot(self.W['W'+str(i)], self.A['A'+str(i-1)]) + self.B['B'+str(i)]\n",
    "            self.A['A'+str(i)] = self.activations[self.acts[i-1]](self.Z['Z'+str(i)])\n",
    "    \n",
    "    def backward_propagation(self):\n",
    "        \n",
    "        for i in range(1, len(self.layers))[::-1]:\n",
    "            \n",
    "            if i==len(self.layers)-1:\n",
    "                self.dz['dz'+str(i)] = self.A['A'+str(i)] - self.y\n",
    "            else:\n",
    "                self.dz['dz'+str(i)] = np.dot(self.W['W'+str(i+1)].T, self.dz['dz'+str(i+1)])*self.diff_activations[self.acts[i-1]](self.Z['Z'+str(i)])\n",
    "            \n",
    "            self.dw['dw'+str(i)] = np.dot(self.dz['dz'+str(i)], self.A['A'+str(i-1)].T) / self.m\n",
    "            self.db['db'+str(i)] = np.sum(self.dz['dz'+str(i)], axis=1, keepdims=True) / self.m\n",
    "                                           \n",
    "                                           \n",
    "    def compute_cost(self, ypred, ytrue):\n",
    "        \n",
    "        m = ytrue.shape[1]\n",
    "        cost = - ( np.sum( np.sum( ytrue*np.log(ypred + self.epsilon), axis=0 ) ) ) / m\n",
    "        return cost\n",
    "    \n",
    "    def compute_accuracy(self, x, y):\n",
    "        \n",
    "        predictions = self.predict(x.T)\n",
    "        acc = np.sum(predictions==y) / y.size\n",
    "        \n",
    "        return acc*100\n",
    "    \n",
    "    def onehotencode(self, y):\n",
    "        labels = len(np.unique(y))\n",
    "        encoded_y = np.zeros((y.shape[0], labels))\n",
    "        for i in range(y.shape[0]):\n",
    "            encoded_y[i, y[i]] = 1\n",
    "        return encoded_y\n",
    "    \n",
    "    def adam(self, t):\n",
    "        \n",
    "        self.rms(t)\n",
    "        for i in range(1, len(self.layers)):\n",
    "            \n",
    "            self.adw['adw'+str(i)] = self.b2*self.adw['adw'+str(i)] + (1-self.b2)*(self.dw['dw'+str(i)]**2)\n",
    "            self.adb['adb'+str(i)] = self.b2*self.adb['adb'+str(i)] + (1-self.b2)*(self.db['db'+str(i)]**2)\n",
    "            \n",
    "            self.adwc['adwc'+str(i)] = self.adw['adw'+str(i)] / (1 - np.power(self.b2, t))\n",
    "            self.adbc['adbc'+str(i)] = self.adb['adb'+str(i)] / (1 - np.power(self.b2, t))\n",
    "    \n",
    "    def rms(self, t):\n",
    "        \n",
    "        for i in range(1, len(self.layers)):\n",
    "            \n",
    "            self.vdw['vdw'+str(i)] = self.b1*self.vdw['vdw'+str(i)] + (1-self.b1)*self.dw['dw'+str(i)]\n",
    "            self.vdb['vdb'+str(i)] = self.b1*self.vdb['vdb'+str(i)] + (1-self.b1)*self.db['db'+str(i)]\n",
    "            \n",
    "            self.vdwc['vdwc'+str(i)] = self.vdw['vdw'+str(i)] / (1 - np.power(self.b1, t))\n",
    "            self.vdbc['vdbc'+str(i)] = self.vdb['vdb'+str(i)] / (1 - np.power(self.b1, t))\n",
    "    \n",
    "    def create_mini_batches(self):\n",
    "        start, end = 0, self.mbs\n",
    "        if self.mbs < self.x.shape[1]:\n",
    "            for i in range(ceil(self.x.shape[1] / self.mbs)):\n",
    "                if i == ceil(self.x.shape[1] / self.mbs)-1:\n",
    "                    self.mbx.append(self.x[:, start:])\n",
    "                    self.mby.append(self.y[:, start:])\n",
    "                else:\n",
    "                    self.mbx.append(self.x[:, start:end])\n",
    "                    self.mby.append(self.y[:, start:end])\n",
    "                start += self.mbs\n",
    "                end += self.mbs\n",
    "        else:\n",
    "            self.mbx.append(self.x)\n",
    "            self.mby.append(self.y)\n",
    "            \n",
    "    def plot_costs(self):\n",
    "        plt.figure(1)\n",
    "        plt.plot(self.costs, color='g', alpha=0.7, label='Gradient Descent')\n",
    "        plt.xlabel('Epochs')\n",
    "        plt.ylabel('Costs')\n",
    "        plt.legend()\n",
    "        plt.grid(True)\n",
    "    \n",
    "    def plot_accuracy(self):\n",
    "        plt.figure(2)\n",
    "        plt.plot(self.accuracy, color='r', alpha=0.7, label='Accuracy')\n",
    "        plt.xlabel('Epochs')\n",
    "        plt.ylabel('Accuracy at each Epoch')\n",
    "        plt.legend()\n",
    "        plt.grid(True)\n",
    "        \n",
    "    def softmax(self, z):\n",
    "        t = np.exp(z)\n",
    "        return t/np.sum(t, axis=0)\n",
    "            \n",
    "    def relu(self, z):\n",
    "        return np.maximum(0, z)\n",
    "    \n",
    "    def diff_relu(self, z):\n",
    "        return np.where(z>0, 1, 0)\n",
    "    \n",
    "    def tanh(self, z):\n",
    "        return np.tanh(z)\n",
    "    \n",
    "    def diff_tanh(self, z):\n",
    "        return 1 - np.square(self.tanh(z))\n",
    "    \n",
    "    def sigmoid(self, z):\n",
    "        return 1/(1+np.exp(-z))\n",
    "    \n",
    "    def diff_sigmoid(self, z):\n",
    "        return self.sigmoid(z) * (1 - self.sigmoid(z))"
   ]
  },
  {
   "cell_type": "code",
   "execution_count": 10,
   "metadata": {},
   "outputs": [],
   "source": [
    "data = pd.read_csv('Social_Network_Ads.csv') \n",
    "x = data.iloc[:, [2,3]].values\n",
    "y = data.iloc[:, -1].values\n",
    "from sklearn.preprocessing import StandardScaler\n",
    "from sklearn.model_selection import train_test_split\n",
    "from sklearn.preprocessing import PolynomialFeatures\n",
    "x = StandardScaler().fit_transform(x)\n",
    "x = PolynomialFeatures(degree=2).fit_transform(x)\n",
    "xtr, xts, ytr, yts = train_test_split(x, y, test_size=.2)"
   ]
  },
  {
   "cell_type": "code",
   "execution_count": 11,
   "metadata": {},
   "outputs": [
    {
     "name": "stdout",
     "output_type": "stream",
     "text": [
      "Optimized Weights : {'W1': array([[-1.02446264,  0.89377187,  1.68176255,  0.2194397 , -1.06995555,\n",
      "         2.0291235 ],\n",
      "       [ 0.38158518,  1.96035729,  1.55795548, -0.65028726, -1.35346863,\n",
      "         0.55293097]]), 'W2': array([[2.90442832, 3.09280038]]), 'W3': array([[-2.57172542],\n",
      "       [ 4.10868628]])}\n",
      "Optimized Biases : {'B1': array([[-1.19949915],\n",
      "       [ 0.09141698]]), 'B2': array([[-0.05522562]]), 'B3': array([[ 2.30542592],\n",
      "       [-2.30441901]])}\n",
      "Epochs : 1000\n",
      "Optimizer Used : adam\n",
      "Initial Learning Rate : 0.05\n",
      "Learning Rate after decay : 2.607547525423281e-07\n",
      "Minimised Cost : 0.14520898251002812\n",
      "Accuracy : 91.5625\n"
     ]
    },
    {
     "data": {
      "image/png": "[encoded data removed]",
      "text/plain": [
       "<Figure size 432x288 with 1 Axes>"
      ]
     },
     "metadata": {
      "needs_background": "light"
     },
     "output_type": "display_data"
    },
    {
     "data": {
      "image/png": "[encoded data removed]",
      "text/plain": [
       "<Figure size 432x288 with 1 Axes>"
      ]
     },
     "metadata": {
      "needs_background": "light"
     },
     "output_type": "display_data"
    }
   ],
   "source": [
    "nn = DNN(layers=[6,2,1,2], acts=['t', 's', 'sm'],lr=0.05, iters=1000, optimizer='adam', lr_decay_period=10, lr_decay_rate=1.5, info=True)\n",
    "nn.fit(xtr, ytr)"
   ]
  },
  {
   "cell_type": "code",
   "execution_count": 12,
   "metadata": {},
   "outputs": [
    {
     "data": {
      "text/plain": [
       "91.5625"
      ]
     },
     "execution_count": 12,
     "metadata": {},
     "output_type": "execute_result"
    }
   ],
   "source": [
    "nn.accuracy[-1] ### Train Accuracy"
   ]
  },
  {
   "cell_type": "code",
   "execution_count": 13,
   "metadata": {},
   "outputs": [
    {
     "data": {
      "text/plain": [
       "92.5"
      ]
     },
     "execution_count": 13,
     "metadata": {},
     "output_type": "execute_result"
    }
   ],
   "source": [
    "nn.compute_accuracy(xts.T, yts) ### Test Accuracy"
   ]
  },
  {
   "cell_type": "code",
   "execution_count": 10,
   "metadata": {},
   "outputs": [
    {
     "name": "stdout",
     "output_type": "stream",
     "text": [
      "Optimized Weights\n",
      "Optimized Biases\n",
      "Epochs\n",
      "Optimizer Used\n",
      "Initial Learning Rate\n",
      "Learning Rate after decay\n",
      "Minimised Cost\n",
      "Accuracy\n"
     ]
    }
   ],
   "source": [
    "for i in nn.info:\n",
    "    print(i)"
   ]
  },
  {
   "cell_type": "code",
   "execution_count": null,
   "metadata": {},
   "outputs": [],
   "source": []
  }
 ],
 "metadata": {
  "kernelspec": {
   "display_name": "Python 3",
   "language": "python",
   "name": "python3"
  },
  "language_info": {
   "codemirror_mode": {
    "name": "ipython",
    "version": 3
   },
   "file_extension": ".py",
   "mimetype": "text/x-python",
   "name": "python",
   "nbconvert_exporter": "python",
   "pygments_lexer": "ipython3",
   "version": "3.8.0"
  }
 },
 "nbformat": 4,
 "nbformat_minor": 4
}
