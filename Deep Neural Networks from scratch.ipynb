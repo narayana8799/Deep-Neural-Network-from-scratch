{
 "cells": [
  {
   "cell_type": "code",
   "execution_count": 1,
   "metadata": {},
   "outputs": [],
   "source": [
    "import numpy as np\n",
    "import pandas as pd\n",
    "import matplotlib.pyplot as plt\n",
    "import math"
   ]
  },
  {
   "cell_type": "code",
   "execution_count": 91,
   "metadata": {},
   "outputs": [],
   "source": [
    "class DNN:\n",
    "    \"\"\"\n",
    "    param layers : List of layers sizes with first element being the size of input layer\n",
    "    param acts : list of activation functions for each layer with size one less than the size of layers\n",
    "    iters : Maximum number of iterations for gradient descent\n",
    "    mini_batc_size : Size to divide the input x into certain number of batches\n",
    "    plot_acc : Plots accuray at each epoch after training the model\n",
    "    plot_des : Plots cost at each epoch after training the model\n",
    "    \n",
    "    \"\"\"\n",
    "    def __init__(self, layers, acts=None, iters=2500, lr=0.001, mini_batch_size=128, plot_acc=0, plot_des=0):\n",
    "        self.iters = iters\n",
    "        self.layers = layers\n",
    "        self.lr = lr\n",
    "        self.epsilon = 1e-7\n",
    "        self.ptac, self.ptdt = plot_acc, plot_des\n",
    "        self.mbs = mini_batch_size\n",
    "        self.A, self.Z, self.W, self.B = {}, {}, {}, {}\n",
    "        self.dw, self.db, self.dz = {}, {}, {}\n",
    "        self.PA, self.PZ = {}, {}\n",
    "        self.x, self.y, self.m, self.predictions = None, None, None, None\n",
    "        self.mp, self.yp, self.xp = None, None, None\n",
    "        self.acc, self.costs, self.mini_batches_x, self.mini_batches_y = [], [], [], []\n",
    "        if acts:\n",
    "            self.acts = acts\n",
    "        else:\n",
    "            self.acts = (['r']*(len(self.layers)-2))+['s']\n",
    "        self.activations = {'r': self.relu, 't': self.tanh, 's': self.sigmoid}\n",
    "        self.diff_activations = {'r': self.diff_relu, 't': self.diff_tanh}\n",
    "    \n",
    "    #Sigmoid Activation for the last layer\n",
    "    def sigmoid(self, z):\n",
    "        return 1/(1+np.exp(-z))\n",
    "    \n",
    "    #RELU Activation for hidden layers\n",
    "    def relu(self, z):\n",
    "        return np.maximum(0, z)\n",
    "    \n",
    "    #Tan hyperbolic Activation for hidden layers\n",
    "    def tanh(self, z):\n",
    "        return np.tanh(z)\n",
    "    \n",
    "    #Differentation of tanh activation for back propagation\n",
    "    def diff_tanh(self, z):\n",
    "        return 1-np.square(self.tanh(z))\n",
    "    \n",
    "    #Differentation of RELU activation for back propagation\n",
    "    def diff_relu(self, z):\n",
    "        return np.where(z>0, 1, 0)\n",
    "    \n",
    "    #Train method for the model\n",
    "    def fit(self, x, y):\n",
    "        self.x, self.xp = x.T, x\n",
    "        self.y = y.reshape((1, -1))\n",
    "        self.yp = y.reshape((1, -1))\n",
    "        self.m, self.mp = x.shape[0], x.shape[0]\n",
    "        self.A['A0'] = self.x\n",
    "        \n",
    "        self.initialize_weights()\n",
    "        self.create_mini_batches()\n",
    "        self.optimize_weights()\n",
    "        \n",
    "        if self.ptdt:\n",
    "            self.plot_descent()\n",
    "        if self.ptac:\n",
    "            self.plot_accuracy()\n",
    "    \n",
    "    #For predicting test set after training the model\n",
    "    def predict(self, x):\n",
    "        self.PA['PA0'] = x.T\n",
    "        for i in range(1, len(self.layers)):\n",
    "            self.PZ['PZ'+str(i)] = (self.W['W'+str(i)]@self.PA['PA'+str(i-1)])+self.B['B'+str(i)]\n",
    "            self.PA['PA'+str(i)] = self.activations[self.acts[i-1]](self.PZ['PZ'+str(i)])\n",
    "        self.predictions = np.round(self.PA['PA'+str(len(self.layers)-1)])\n",
    "        return self.predictions\n",
    "    \n",
    "    #Initializes weights for the model\n",
    "    def initialize_weights(self):\n",
    "        for i in range(1, len(self.layers)):\n",
    "            self.W['W'+str(i)] = np.random.random((self.layers[i], self.layers[i-1]))\n",
    "            self.B['B'+str(i)] = np.random.random((self.layers[i], 1))\n",
    "    \n",
    "    #As the name suggests it optimizes the weights and biases for the model\n",
    "    def optimize_weights(self):\n",
    "        for i in range(self.iters):\n",
    "            for x, y in zip(self.mini_batches_x, self.mini_batches_y):\n",
    "                self.x = x\n",
    "                self.y = y\n",
    "                self.m = self.x.shape[1]\n",
    "                self.A['A0'] = self.x\n",
    "                self.forward_propagation()\n",
    "                self.backward_propagation()\n",
    "                for i in range(1, len(self.layers)):\n",
    "                    self.W['W'+str(i)] -= self.lr*self.dw['dw'+str(i)]\n",
    "                    self.B['B'+str(i)] -= self.lr*self.db['db'+str(i)]\n",
    "            self.costs.append(self.compute_cost())\n",
    "            self.predict(self.xp)\n",
    "            self.acc.append(self.accuracy())\n",
    "    \n",
    "    #Calculates A and Z for the model\n",
    "    def forward_propagation(self):\n",
    "        for i in range(1, len(self.layers)):\n",
    "            self.Z['Z'+str(i)] = (self.W['W'+str(i)]@self.A['A'+str(i-1)])+self.B['B'+str(i)]\n",
    "            self.A['A'+str(i)] = self.activations[self.acts[i-1]](self.Z['Z'+str(i)])\n",
    "    \n",
    "    #Calculates gradients for optimizing weights\n",
    "    def backward_propagation(self):\n",
    "        for i in range(1, len(self.layers))[::-1]:\n",
    "            if i==len(self.layers)-1:\n",
    "                self.dz['dz'+str(i)] = self.A['A'+str(i)] - self.y\n",
    "            else:\n",
    "                self.dz['dz'+str(i)] = (self.W['W'+str(i+1)].T@self.dz['dz'+str(i+1)])\\\n",
    "                                        *self.diff_activations[self.acts[i-1]](self.Z['Z'+str(i)])\n",
    "            self.dw['dw'+str(i)] = (self.dz['dz'+str(i)]@self.A['A'+str(i-1)].T)/self.m\n",
    "            self.db['db'+str(i)] = (np.sum(self.dz['dz'+str(i)], axis=1, keepdims=True))/self.m\n",
    "    \n",
    "    #Computes the cost or error of the model\n",
    "    def compute_cost(self):\n",
    "        term1 = -self.y*np.log(self.A['A'+str(len(self.layers)-1)]+self.epsilon)\n",
    "        term2 = -(1-self.y)*np.log(1-self.A['A'+str(len(self.layers)-1)]+self.epsilon)\n",
    "        cost = np.sum(term1+term2)/self.m\n",
    "        return cost\n",
    "    \n",
    "    #Metric method to calculate Accuracy\n",
    "    def accuracy(self):\n",
    "        acc = np.sum(self.yp==self.predictions)/self.yp.size\n",
    "        return acc*100\n",
    "    \n",
    "    #Creates Mini Batches\n",
    "    def create_mini_batches(self):\n",
    "        start, end = 0, self.mbs\n",
    "        if self.mbs<self.x.shape[1]:\n",
    "            for i in range(math.ceil(self.x.shape[1]/self.mbs)):\n",
    "                if i==math.ceil(self.x.shape[1]/self.mbs)-1:\n",
    "                    self.mini_batches_x.append(self.x[:, start:])\n",
    "                    self.mini_batches_y.append(self.y[:, start:])\n",
    "                else:\n",
    "                    self.mini_batches_x.append(self.x[:, start:end])\n",
    "                    self.mini_batches_y.append(self.y[:, start:end])\n",
    "                start += self.mbs\n",
    "                end += self.mbs\n",
    "        else:\n",
    "            self.mini_batches_x.append(self.x)\n",
    "            self.mini_batches_y.append(self.y)\n",
    "\n",
    "    #Plots Accuracy if chosen       \n",
    "    def plot_accuracy(self):\n",
    "        plt.figure(1)\n",
    "        plt.plot(self.acc, color='r')\n",
    "        plt.title('Accuracy for each Epoch')\n",
    "        plt.xlabel('Epochs')\n",
    "        plt.ylabel('Accuracy')\n",
    "    \n",
    "    #Plots the cost at each Epoch if chosen \n",
    "    def plot_descent(self):\n",
    "        plt.figure(2)\n",
    "        plt.plot(self.costs, color='green')\n",
    "        plt.title('Descent Curve of Cost')\n",
    "        plt.xlabel('Epochs')\n",
    "        plt.ylabel('Cost')"
   ]
  },
  {
   "cell_type": "code",
   "execution_count": 92,
   "metadata": {},
   "outputs": [
    {
     "data": {
      "image/png": "[encoded data removed]",
      "text/plain": [
       "<Figure size 432x288 with 1 Axes>"
      ]
     },
     "metadata": {
      "needs_background": "light"
     },
     "output_type": "display_data"
    },
    {
     "data": {
      "image/png": "[encoded data removed]",
      "text/plain": [
       "<Figure size 432x288 with 1 Axes>"
      ]
     },
     "metadata": {
      "needs_background": "light"
     },
     "output_type": "display_data"
    }
   ],
   "source": [
    "data = pd.read_csv('Social_Network_Ads.csv')\n",
    "x = data.iloc[:, [2,3]].values\n",
    "y = data.iloc[:, -1].values\n",
    "from sklearn.preprocessing import StandardScaler\n",
    "x = StandardScaler().fit_transform(x)\n",
    "nn = DNN(layers=[2,4,2,6,1], iters=1500, lr=0.04, plot_acc=1, plot_des=1)\n",
    "nn.fit(x, y)\n",
    "# plt.plot(nn.costs)"
   ]
  },
  {
   "cell_type": "code",
   "execution_count": 93,
   "metadata": {},
   "outputs": [
    {
     "data": {
      "text/plain": [
       "90.0"
      ]
     },
     "execution_count": 93,
     "metadata": {},
     "output_type": "execute_result"
    }
   ],
   "source": [
    "nn.acc[-1]"
   ]
  },
  {
   "cell_type": "code",
   "execution_count": null,
   "metadata": {},
   "outputs": [],
   "source": []
  }
 ],
 "metadata": {
  "kernelspec": {
   "display_name": "Python 3",
   "language": "python",
   "name": "python3"
  },
  "language_info": {
   "codemirror_mode": {
    "name": "ipython",
    "version": 3
   },
   "file_extension": ".py",
   "mimetype": "text/x-python",
   "name": "python",
   "nbconvert_exporter": "python",
   "pygments_lexer": "ipython3",
   "version": "3.7.6"
  }
 },
 "nbformat": 4,
 "nbformat_minor": 4
}
